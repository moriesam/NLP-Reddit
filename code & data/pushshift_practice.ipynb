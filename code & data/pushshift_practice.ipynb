{
 "cells": [
  {
   "cell_type": "markdown",
   "metadata": {},
   "source": [
    "# Project 3: Web APIs & NLP"
   ]
  },
  {
   "cell_type": "markdown",
   "metadata": {},
   "source": [
    "Objectives & Requirements \n",
    "- Gather and prepare your data using the requests library.\n",
    "- Create and compare two models. One of these must be a Bayes classifier, however the other can be a - classifier of your choosing: logistic regression, KNN, SVM, etc.\n",
    "- A Jupyter Notebook with your analysis for a peer audience of data scientists.\n",
    "- An executive summary of your results.\n",
    "- A short presentation outlining your process and findings for a semi-technical audience."
   ]
  },
  {
   "cell_type": "markdown",
   "metadata": {},
   "source": [
    "#### Using Requests and Beautiful Soup to Extract Information From a Web Page"
   ]
  },
  {
   "cell_type": "code",
   "execution_count": 1,
   "metadata": {},
   "outputs": [],
   "source": [
    "#import libraries \n",
    "import requests, json\n",
    "import numpy as np \n",
    "import pandas as pd \n",
    "from sklearn.model_selection import train_test_split, GridSearchCV, cross_val_score, cross_val_predict\n",
    "from sklearn.ensemble import RandomForestClassifier, ExtraTreesClassifier\n",
    "from sklearn.pipeline import Pipeline, FeatureUnion \n",
    "from sklearn.linear_model import LogisticRegression \n",
    "from sklearn.feature_extraction.text import CountVectorizer \n",
    "from sklearn.metrics import r2_score\n",
    "from sklearn import metrics\n",
    "import time \n",
    "import seaborn as sns\n",
    "import matplotlib.pyplot as plt\n",
    "\n",
    "from sklearn.ensemble import GradientBoostingClassifier, AdaBoostClassifier, VotingClassifier\n",
    "from sklearn.tree import DecisionTreeClassifier\n",
    "from sklearn.metrics import confusion_matrix, accuracy_score, classification_report \n",
    "from nltk.sentiment.vader import SentimentIntensityAnalyzer \n",
    "from sklearn.datasets import make_classification\n",
    "from nltk.corpus import stopwords\n",
    "import re\n",
    "from nltk.stem import WordNetLemmatizer\n",
    "from sklearn.preprocessing import StandardScaler, FunctionTransformer"
   ]
  },
  {
   "cell_type": "markdown",
   "metadata": {},
   "source": [
    "#### Pulling content by url and entering into a dataframe : \n"
   ]
  },
  {
   "cell_type": "code",
   "execution_count": 2,
   "metadata": {},
   "outputs": [],
   "source": [
    "# Defining different timestamps so we can loop through and pull enough data (9K) for each target subject\n",
    "time_stamps = ['2019-12-28 15:07:53',\n",
    "'2019-10-17 11:07:49',\n",
    "'2019-08-26 19:11:01',\n",
    "'2019-06-28 20:48:35',\n",
    "'2019-04-13 23:00:50',\n",
    "'2018-12-30 17:36:15',\n",
    "'2018-09-03 18:17:58',\n",
    "'2017-12-21 14:29:13',\n",
    "'2017-02-16 16:40:38']"
   ]
  },
  {
   "cell_type": "code",
   "execution_count": 3,
   "metadata": {},
   "outputs": [],
   "source": [
    "#Creating loop to pull data:\n",
    "\n",
    "# set up list \n",
    "data_gw = []\n",
    "data_cs = []\n",
    "for time in time_stamps: \n",
    "    #text ={}\n",
    "# select and target web page:    \n",
    "    url = 'https://api.pushshift.io/reddit/submission/search'\n",
    "#setting up parameters\n",
    "    params_gw = {'subreddit': 'globalwarming', 'size': 1000, 'before':time}\n",
    "    params_cs = {'subreddit': 'climateskeptics', 'size': 1000, 'before':time}\n",
    "# Establishing the connection to the web page:\n",
    "    res_gw = requests.get(url, params_gw)\n",
    "    res_cs = requests.get(url, params_cs)\n",
    "#check status codes to see if target server responds well - successful status code is confirmed.\n",
    "    #print(res_gw.status_code)\n",
    "    #print(res_cs.status_code)\n",
    "# #Create two sets of dataframe for target subjects, converting requests to json and add to the list. \n",
    "    text_gw = pd.DataFrame(res_gw.json()['data'])\n",
    "    text_cs = pd.DataFrame(res_cs.json()['data'])\n",
    "    data_gw.append(text_gw)\n",
    "    data_cs.append(text_cs)\n",
    "    \n",
    "#define \n",
    "\n",
    "    #for time in time_stamps:\n",
    "        #time.sleep(3)"
   ]
  },
  {
   "cell_type": "code",
   "execution_count": 4,
   "metadata": {},
   "outputs": [],
   "source": [
    "#Create two sets of dataframe for target subjects, concatenate 2 lists and dataframe \n",
    "frames = data_gw + data_cs\n",
    "df = pd.concat(frames, axis = 0, sort=False)\n",
    "df.reset_index(drop = True, inplace = True)"
   ]
  },
  {
   "cell_type": "code",
   "execution_count": 5,
   "metadata": {},
   "outputs": [],
   "source": [
    "#data_gw[0]['score'].sum()"
   ]
  },
  {
   "cell_type": "code",
   "execution_count": 6,
   "metadata": {
    "jupyter": {
     "source_hidden": true
    }
   },
   "outputs": [],
   "source": [
    "#data_cs[0]['score'].sum()"
   ]
  },
  {
   "cell_type": "code",
   "execution_count": 7,
   "metadata": {},
   "outputs": [],
   "source": [
    "#merging title and texts into one field for richer content\n",
    "df[\"title_selftext\"] = df[\"title\"] + \" \" + df[\"selftext\"]"
   ]
  },
  {
   "cell_type": "code",
   "execution_count": 8,
   "metadata": {},
   "outputs": [
    {
     "data": {
      "text/plain": [
       "0        Does big reports og forums exist with analysis...\n",
       "1        It was 66 here in indiana on christmas day I a...\n",
       "2        HELP, AUSTRALIA IS DYING AND NO ONE IS TALKING...\n",
       "3        Global warming is BULLSHIT! I hate all this fa...\n",
       "4        More Bullshit!!! \"European cities will be sunk...\n",
       "                               ...                        \n",
       "17995           France to drop carbon tax plan: Les Echos \n",
       "17996                               The EPA Caves on Coal \n",
       "17997    California targets dairy cow farts to combat g...\n",
       "17998    Why Climate Change Deniers Should Still Act On...\n",
       "17999    UCS -stands for the Union of Con Scientists. L...\n",
       "Name: title_selftext, Length: 17937, dtype: object"
      ]
     },
     "execution_count": 8,
     "metadata": {},
     "output_type": "execute_result"
    }
   ],
   "source": [
    "# removing non/blank values to remove data noise \n",
    "df['title_selftext'].dropna(axis = 0, inplace=True)\n",
    "df['title_selftext']"
   ]
  },
  {
   "cell_type": "code",
   "execution_count": 9,
   "metadata": {},
   "outputs": [
    {
     "data": {
      "text/html": [
       "<div>\n",
       "<style scoped>\n",
       "    .dataframe tbody tr th:only-of-type {\n",
       "        vertical-align: middle;\n",
       "    }\n",
       "\n",
       "    .dataframe tbody tr th {\n",
       "        vertical-align: top;\n",
       "    }\n",
       "\n",
       "    .dataframe thead th {\n",
       "        text-align: right;\n",
       "    }\n",
       "</style>\n",
       "<table border=\"1\" class=\"dataframe\">\n",
       "  <thead>\n",
       "    <tr style=\"text-align: right;\">\n",
       "      <th></th>\n",
       "      <th>title_selftext</th>\n",
       "      <th>subreddit</th>\n",
       "    </tr>\n",
       "  </thead>\n",
       "  <tbody>\n",
       "    <tr>\n",
       "      <th>0</th>\n",
       "      <td>Does big reports og forums exist with analysis...</td>\n",
       "      <td>GlobalWarming</td>\n",
       "    </tr>\n",
       "    <tr>\n",
       "      <th>1</th>\n",
       "      <td>It was 66 here in indiana on christmas day I a...</td>\n",
       "      <td>GlobalWarming</td>\n",
       "    </tr>\n",
       "    <tr>\n",
       "      <th>2</th>\n",
       "      <td>HELP, AUSTRALIA IS DYING AND NO ONE IS TALKING...</td>\n",
       "      <td>GlobalWarming</td>\n",
       "    </tr>\n",
       "    <tr>\n",
       "      <th>3</th>\n",
       "      <td>Global warming is BULLSHIT! I hate all this fa...</td>\n",
       "      <td>GlobalWarming</td>\n",
       "    </tr>\n",
       "    <tr>\n",
       "      <th>4</th>\n",
       "      <td>More Bullshit!!! \"European cities will be sunk...</td>\n",
       "      <td>GlobalWarming</td>\n",
       "    </tr>\n",
       "  </tbody>\n",
       "</table>\n",
       "</div>"
      ],
      "text/plain": [
       "                                      title_selftext      subreddit\n",
       "0  Does big reports og forums exist with analysis...  GlobalWarming\n",
       "1  It was 66 here in indiana on christmas day I a...  GlobalWarming\n",
       "2  HELP, AUSTRALIA IS DYING AND NO ONE IS TALKING...  GlobalWarming\n",
       "3  Global warming is BULLSHIT! I hate all this fa...  GlobalWarming\n",
       "4  More Bullshit!!! \"European cities will be sunk...  GlobalWarming"
      ]
     },
     "execution_count": 9,
     "metadata": {},
     "output_type": "execute_result"
    }
   ],
   "source": [
    "#Looking into dataframe to check the result\n",
    "df = df[['title_selftext', 'subreddit']]\n",
    "df['title_selftext'] = df['title_selftext'].astype(str)\n",
    "df.head()"
   ]
  },
  {
   "cell_type": "code",
   "execution_count": 10,
   "metadata": {},
   "outputs": [],
   "source": [
    "# Retrieved from Dan Kim feature_union notebook\n",
    "# instantiate the sentiment analyzer \n",
    "sia = SentimentIntensityAnalyzer()\n",
    "# Write a function to get the compound sentiment scores for a post\n",
    "def get_compound_sentiment(post):\n",
    "    return sia.polarity_scores(post)['compound']"
   ]
  },
  {
   "cell_type": "code",
   "execution_count": 11,
   "metadata": {},
   "outputs": [],
   "source": [
    "#Create and add sentiment column to the dataframe \n",
    "df['sentiment'] = df['title_selftext'].apply(lambda x: get_compound_sentiment(x))"
   ]
  },
  {
   "cell_type": "code",
   "execution_count": 12,
   "metadata": {},
   "outputs": [
    {
     "data": {
      "image/png": "[encoded data removed]",
      "text/plain": [
       "<Figure size 432x288 with 1 Axes>"
      ]
     },
     "metadata": {
      "needs_background": "light"
     },
     "output_type": "display_data"
    }
   ],
   "source": [
    "# look at the distribution of the composite sentiment score - Retrieved from Dan Kim feature_union notebook\n",
    "df.groupby('subreddit')['sentiment'].plot(kind = 'hist', legend=True);"
   ]
  },
  {
   "cell_type": "code",
   "execution_count": 13,
   "metadata": {},
   "outputs": [
    {
     "data": {
      "text/html": [
       "<div>\n",
       "<style scoped>\n",
       "    .dataframe tbody tr th:only-of-type {\n",
       "        vertical-align: middle;\n",
       "    }\n",
       "\n",
       "    .dataframe tbody tr th {\n",
       "        vertical-align: top;\n",
       "    }\n",
       "\n",
       "    .dataframe thead th {\n",
       "        text-align: right;\n",
       "    }\n",
       "</style>\n",
       "<table border=\"1\" class=\"dataframe\">\n",
       "  <thead>\n",
       "    <tr style=\"text-align: right;\">\n",
       "      <th></th>\n",
       "      <th>title_selftext</th>\n",
       "      <th>subreddit</th>\n",
       "      <th>sentiment</th>\n",
       "    </tr>\n",
       "  </thead>\n",
       "  <tbody>\n",
       "    <tr>\n",
       "      <th>3</th>\n",
       "      <td>Global warming is BULLSHIT! I hate all this fa...</td>\n",
       "      <td>GlobalWarming</td>\n",
       "      <td>-0.9956</td>\n",
       "    </tr>\n",
       "    <tr>\n",
       "      <th>4</th>\n",
       "      <td>More Bullshit!!! \"European cities will be sunk...</td>\n",
       "      <td>GlobalWarming</td>\n",
       "      <td>-0.8777</td>\n",
       "    </tr>\n",
       "    <tr>\n",
       "      <th>5</th>\n",
       "      <td>A vet's hellish impressions of climate change</td>\n",
       "      <td>GlobalWarming</td>\n",
       "      <td>-0.5106</td>\n",
       "    </tr>\n",
       "    <tr>\n",
       "      <th>6</th>\n",
       "      <td>Am I… Am I really going to die at 47? 2050 is ...</td>\n",
       "      <td>GlobalWarming</td>\n",
       "      <td>-0.7916</td>\n",
       "    </tr>\n",
       "    <tr>\n",
       "      <th>12</th>\n",
       "      <td>What is worse for the planet? Carbon emissions...</td>\n",
       "      <td>GlobalWarming</td>\n",
       "      <td>-0.5362</td>\n",
       "    </tr>\n",
       "    <tr>\n",
       "      <th>...</th>\n",
       "      <td>...</td>\n",
       "      <td>...</td>\n",
       "      <td>...</td>\n",
       "    </tr>\n",
       "    <tr>\n",
       "      <th>17968</th>\n",
       "      <td>The climate scam corruption metastasizes</td>\n",
       "      <td>climateskeptics</td>\n",
       "      <td>-0.5719</td>\n",
       "    </tr>\n",
       "    <tr>\n",
       "      <th>17970</th>\n",
       "      <td>Two-thirds of Australians think reef crisis is...</td>\n",
       "      <td>climateskeptics</td>\n",
       "      <td>-0.7901</td>\n",
       "    </tr>\n",
       "    <tr>\n",
       "      <th>17981</th>\n",
       "      <td>Rampant climate fraud makes me doubt other hig...</td>\n",
       "      <td>climateskeptics</td>\n",
       "      <td>-0.9095</td>\n",
       "    </tr>\n",
       "    <tr>\n",
       "      <th>17983</th>\n",
       "      <td>NASA Drops Global Warming BOMBSHELL, Liberals ...</td>\n",
       "      <td>climateskeptics</td>\n",
       "      <td>-0.7717</td>\n",
       "    </tr>\n",
       "    <tr>\n",
       "      <th>17988</th>\n",
       "      <td>Record cold coming to ‘almost entire USA’ – Lo...</td>\n",
       "      <td>climateskeptics</td>\n",
       "      <td>-0.7125</td>\n",
       "    </tr>\n",
       "  </tbody>\n",
       "</table>\n",
       "<p>2462 rows × 3 columns</p>\n",
       "</div>"
      ],
      "text/plain": [
       "                                          title_selftext        subreddit  \\\n",
       "3      Global warming is BULLSHIT! I hate all this fa...    GlobalWarming   \n",
       "4      More Bullshit!!! \"European cities will be sunk...    GlobalWarming   \n",
       "5         A vet's hellish impressions of climate change     GlobalWarming   \n",
       "6      Am I… Am I really going to die at 47? 2050 is ...    GlobalWarming   \n",
       "12     What is worse for the planet? Carbon emissions...    GlobalWarming   \n",
       "...                                                  ...              ...   \n",
       "17968          The climate scam corruption metastasizes   climateskeptics   \n",
       "17970  Two-thirds of Australians think reef crisis is...  climateskeptics   \n",
       "17981  Rampant climate fraud makes me doubt other hig...  climateskeptics   \n",
       "17983  NASA Drops Global Warming BOMBSHELL, Liberals ...  climateskeptics   \n",
       "17988  Record cold coming to ‘almost entire USA’ – Lo...  climateskeptics   \n",
       "\n",
       "       sentiment  \n",
       "3        -0.9956  \n",
       "4        -0.8777  \n",
       "5        -0.5106  \n",
       "6        -0.7916  \n",
       "12       -0.5362  \n",
       "...          ...  \n",
       "17968    -0.5719  \n",
       "17970    -0.7901  \n",
       "17981    -0.9095  \n",
       "17983    -0.7717  \n",
       "17988    -0.7125  \n",
       "\n",
       "[2462 rows x 3 columns]"
      ]
     },
     "execution_count": 13,
     "metadata": {},
     "output_type": "execute_result"
    }
   ],
   "source": [
    "#Deep dive into negative posts for better undrestanding of what is driving it \n",
    "df[df['sentiment']<-0.5]"
   ]
  },
  {
   "cell_type": "code",
   "execution_count": 14,
   "metadata": {},
   "outputs": [
    {
     "data": {
      "text/plain": [
       "climateskeptics    9000\n",
       "GlobalWarming      9000\n",
       "Name: subreddit, dtype: int64"
      ]
     },
     "execution_count": 14,
     "metadata": {},
     "output_type": "execute_result"
    }
   ],
   "source": [
    "# Checking to see if all values are collected - all looks good!\n",
    "df.subreddit.value_counts()"
   ]
  },
  {
   "cell_type": "markdown",
   "metadata": {},
   "source": [
    "###  Pre-processing | Modeling | Evaluation:"
   ]
  },
  {
   "cell_type": "code",
   "execution_count": 15,
   "metadata": {},
   "outputs": [],
   "source": [
    "# This process has been used to verify timestamp for data pull.\n",
    "#df = df[['created_utc', 'retrieved_on','title_selftext', 'subreddit']]"
   ]
  },
  {
   "cell_type": "code",
   "execution_count": 16,
   "metadata": {},
   "outputs": [],
   "source": [
    "# removing non/blank values to remove data noise \n",
    "df.dropna(inplace=True)"
   ]
  },
  {
   "cell_type": "markdown",
   "metadata": {},
   "source": [
    "Converting subreddit into binary values: \n",
    "\n",
    "> - 0 for GlobalWarming\n",
    "> - 1 for climateskeptics"
   ]
  },
  {
   "cell_type": "code",
   "execution_count": 17,
   "metadata": {},
   "outputs": [
    {
     "data": {
      "text/plain": [
       "1    9000\n",
       "0    9000\n",
       "Name: subreddit, dtype: int64"
      ]
     },
     "execution_count": 17,
     "metadata": {},
     "output_type": "execute_result"
    }
   ],
   "source": [
    "df['subreddit'] = np.where(df['subreddit']=='climateskeptics', 1,0)\n",
    "df['subreddit'].value_counts()"
   ]
  },
  {
   "cell_type": "markdown",
   "metadata": {},
   "source": [
    "#### Cleaning  | Pre-processing"
   ]
  },
  {
   "cell_type": "code",
   "execution_count": 18,
   "metadata": {},
   "outputs": [],
   "source": [
    "#Removing urls\n",
    "df['title_selftext'] = df['title_selftext'].map(lambda x: re.sub('http[s]?:\\/\\/[^\\s]*', ' ', x)) # removing urls"
   ]
  },
  {
   "cell_type": "code",
   "execution_count": 19,
   "metadata": {},
   "outputs": [],
   "source": [
    "#Removing all punctuation\n",
    "df['title_selftext'] = df['title_selftext'].map(lambda x: re.sub('[^\\w\\s]', ' ', x)) # Removing all punctuation "
   ]
  },
  {
   "cell_type": "code",
   "execution_count": 20,
   "metadata": {},
   "outputs": [],
   "source": [
    "#Only keeping letters \n",
    "df['title_selftext'] = df['title_selftext'].map(lambda x: re.sub(\"[^a-zA-Z]\", \" \", x)) # Only keeping letter"
   ]
  },
  {
   "cell_type": "code",
   "execution_count": 21,
   "metadata": {},
   "outputs": [],
   "source": [
    "#reindexing df to be able to merge column into new words_df dataframe\n",
    "df.reset_index(inplace=True)"
   ]
  },
  {
   "cell_type": "code",
   "execution_count": 22,
   "metadata": {},
   "outputs": [],
   "source": [
    "#using countervectorizer to tokenize our texts into collection of words \n",
    "words = df[\"title_selftext\"]\n",
    "#Instantiate lemmatizer.\n",
    "lemmatizer = WordNetLemmatizer()\n",
    "#Run lemmatizer.\n",
    "tokens_lem =  [lemmatizer.lemmatize(i) for i in words]\n",
    "# removing stopwords \n",
    "stop_words = stopwords.words('english')\n",
    "filtered_words = [word for word in tokens_lem if word not in stop_words]"
   ]
  },
  {
   "cell_type": "code",
   "execution_count": 23,
   "metadata": {},
   "outputs": [],
   "source": [
    "#using countervectorizer to tokenize our texts into collection of words \n",
    "cvec = CountVectorizer(min_df =10)\n",
    "words_matrix = cvec.fit_transform(filtered_words)"
   ]
  },
  {
   "cell_type": "code",
   "execution_count": 24,
   "metadata": {},
   "outputs": [],
   "source": [
    "#creating a datframe from all tokenized words  \n",
    "words_df = pd.DataFrame(words_matrix.toarray(), columns=cvec.get_feature_names())\n",
    "words_df['sentiment'] = df['sentiment']"
   ]
  },
  {
   "cell_type": "code",
   "execution_count": 25,
   "metadata": {},
   "outputs": [
    {
     "name": "stdout",
     "output_type": "stream",
     "text": [
      "['the', 'to', 'of', 'and', 'is', 'in', 'climate', 'that', 'it', 'global', 'warming', 'this', 'change', 'for', 'on', 'are', 'we', 'be', 'you', 'not', 'as', 'have', 'with', 'by', 'about', 'what', 'from', 'but', 'if', 'can', 'will', 'all', 'so', 'they', 'how', 'or', 'more', 'at', 'do', 'an', 'was', 'co', 'just', 'would', 'my', 'there', 'people', 'has', 'world', 'earth', 'years', 'our', 'removed', 'like', 'out', 'why', 'carbon', 'up', 'than', 'new', 'some', 'no', 'their', 'ice', 'science', 'one', 'could', 'temperature', 'now', 'me', 'don', 'us', 'scientists', 'time', 'which', 'been', 'because', 'any', 'over', 'your', 'much', 'planet', 'think', 'when', 'who', 'know', 'into', 'data', 'energy', 'here', 'year', 'only', 'these', 'even', 'amp', 'get', 'should', 'made', 'see', 'sea', 'water', 'make', 'most', 'help', 'solar', 'other', 'also', 'going', 'real', 'its', 'human', 'then', 'he', 'really', 'does', 'many', 'were', 'emissions', 'need', 'use', 'very', 'being', 'want', 'them', 'way', 'believe', 'am', 'green', 'heat', 'where', 'stop', 'say', 'good', 're', 'greenhouse', 'since', 'trump', 'rise', 'may', 'those', 'first', 'record', 'atmosphere', 'level', 'weather', 'right', 'study', 'ocean', 'too', 'man']\n"
     ]
    }
   ],
   "source": [
    "#looking into top words by each class\n",
    "top_words_gw = list(words_df.groupby('target').\n",
    "     mean().T.sort_values(0, ascending=False).head(150).index)\n",
    "\n",
    "top_words_cs = list(words_df.groupby('target').\n",
    "     mean().T.sort_values(1, ascending=False).head(150).index)\n",
    "\n",
    "print(top_words_gw)"
   ]
  },
  {
   "cell_type": "code",
   "execution_count": 26,
   "metadata": {},
   "outputs": [
    {
     "name": "stdout",
     "output_type": "stream",
     "text": [
      "['the', 'to', 'and', 'of', 'we', 'that', 'in', 'they', 'it', 'is', 'was', 'this', 'not', 'by', 'she', 'but', 'on', 'for', 'emissions', 'so', 'with', 'can', 'as', 'their', 'her', 'time', 'should', 'climate', 'more', 'if', 'just', 'are', 'like', 'or', 'many', 'about', 'how', 'where', 'because', 'still', 'targets', 'from', 'be', 'will', 'australia', 'here', 'see', 'people', 'tax', 'carbon', 'would', 'had', 'energy', 'our', 'up', 'power', 'other', 'any', 'big', 'government', 'don', 'do', 'problems', 'what', 'levels', 'me', 'historical', 'change', 'care', 'new', 'didn', 'attacked', 'even', 'my', 'said', 'you', 'know', 'strategy', 'being', 'conservative', 'ghg', 'over', 'set', 'nuclear', 'education', 'have', 'pay', 'past', 'reduce', 'believe', 'than', 'methane', 'water', 'were', 'reduction', 'idea', 'atmosphere', 'chemical', 'point', 'greenhouse', 'pollution', 'hold', 'gases', 'suggestions', 'suggestion', 'out', 'he', 'at', 'ice', 'election', 'calling', 'am', 'business', 'an', 'each', 'think', 'countries', 'such', 'into', 'towards', 'minister', 'answer', 'now', 'plan', 'get', 'best', 'anyone', 'god', 'heart', 'prime', 'australian', 'fossil', 'human', 'changes', 'paid', 'taxes', 'something', 'changed', 'fellow', 'come', 'own', 'price', 'sources', 'run', 'cars', 'way', 'hoax', 'going', 'both', 'need']\n"
     ]
    }
   ],
   "source": [
    "print(top_words_cs)"
   ]
  },
  {
   "cell_type": "code",
   "execution_count": 27,
   "metadata": {},
   "outputs": [],
   "source": [
    "#setting up our data for modeling. X is all words column from the new df, Y is the subject label \n",
    "X = words_df\n",
    "y = df['subreddit']"
   ]
  },
  {
   "cell_type": "code",
   "execution_count": 28,
   "metadata": {},
   "outputs": [],
   "source": [
    "# split data into train/test sets.\n",
    "X_train, X_test, y_train, y_test = train_test_split(X, y, random_state=42, stratify = y)"
   ]
  },
  {
   "cell_type": "markdown",
   "metadata": {},
   "source": [
    "### Tuning Models "
   ]
  },
  {
   "cell_type": "markdown",
   "metadata": {},
   "source": [
    "### Model 1 - Logistic Regression "
   ]
  },
  {
   "cell_type": "code",
   "execution_count": 29,
   "metadata": {},
   "outputs": [],
   "source": [
    "#Instantiate model\n",
    "logreg =LogisticRegression(solver = 'liblinear')"
   ]
  },
  {
   "cell_type": "code",
   "execution_count": 30,
   "metadata": {},
   "outputs": [],
   "source": [
    "#setting up parameters \n",
    "params_logreg = {'penalty': ['l1', 'l2']} # we use penalty to diffrentiate vs lasso and ridge"
   ]
  },
  {
   "cell_type": "code",
   "execution_count": 31,
   "metadata": {},
   "outputs": [
    {
     "data": {
      "text/plain": [
       "GridSearchCV(cv=5, error_score='raise-deprecating',\n",
       "             estimator=LogisticRegression(C=1.0, class_weight=None, dual=False,\n",
       "                                          fit_intercept=True,\n",
       "                                          intercept_scaling=1, l1_ratio=None,\n",
       "                                          max_iter=100, multi_class='warn',\n",
       "                                          n_jobs=None, penalty='l2',\n",
       "                                          random_state=None, solver='liblinear',\n",
       "                                          tol=0.0001, verbose=0,\n",
       "                                          warm_start=False),\n",
       "             iid='warn', n_jobs=None, param_grid={'penalty': ['l1', 'l2']},\n",
       "             pre_dispatch='2*n_jobs', refit=True, return_train_score=False,\n",
       "             scoring=None, verbose=0)"
      ]
     },
     "execution_count": 31,
     "metadata": {},
     "output_type": "execute_result"
    }
   ],
   "source": [
    "# using gridsearch to loop thorough the parameters and finds the best\n",
    "gs_logreg = GridSearchCV(logreg, params_logreg, cv = 5)\n",
    "gs_logreg.fit(X_train, y_train)"
   ]
  },
  {
   "cell_type": "markdown",
   "metadata": {},
   "source": [
    "#### Model 1 - Evaluation"
   ]
  },
  {
   "cell_type": "code",
   "execution_count": 32,
   "metadata": {},
   "outputs": [
    {
     "name": "stdout",
     "output_type": "stream",
     "text": [
      "0.8233333333333334\n",
      "accuracy score - Existing data 0.9068888888888889\n",
      "accuracy score - New data 0.8342222222222222\n"
     ]
    }
   ],
   "source": [
    "# Model Evaluation\n",
    "# print out the best score\n",
    "print(gs_logreg.best_score_)\n",
    "#print out the set of hyperparameters that achieved the best score.\n",
    "logreg_model = gs_logreg.best_estimator_\n",
    "print('accuracy score - Existing data', logreg_model.score(X_train, y_train))\n",
    "print('accuracy score - New data',  logreg_model.score(X_test, y_test)) # Accuracy score "
   ]
  },
  {
   "cell_type": "code",
   "execution_count": 33,
   "metadata": {},
   "outputs": [],
   "source": [
    "# look int coefficients and put it into a dataframe\n",
    "features = X\n",
    "features = list(features)\n",
    "coefs = gs_logreg.best_estimator_.coef_"
   ]
  },
  {
   "cell_type": "code",
   "execution_count": 34,
   "metadata": {},
   "outputs": [
    {
     "data": {
      "text/html": [
       "<div>\n",
       "<style scoped>\n",
       "    .dataframe tbody tr th:only-of-type {\n",
       "        vertical-align: middle;\n",
       "    }\n",
       "\n",
       "    .dataframe tbody tr th {\n",
       "        vertical-align: top;\n",
       "    }\n",
       "\n",
       "    .dataframe thead th {\n",
       "        text-align: right;\n",
       "    }\n",
       "</style>\n",
       "<table border=\"1\" class=\"dataframe\">\n",
       "  <thead>\n",
       "    <tr style=\"text-align: right;\">\n",
       "      <th></th>\n",
       "      <th>features</th>\n",
       "      <th>coefficients</th>\n",
       "    </tr>\n",
       "  </thead>\n",
       "  <tbody>\n",
       "    <tr>\n",
       "      <th>0</th>\n",
       "      <td>abandon</td>\n",
       "      <td>0.465461</td>\n",
       "    </tr>\n",
       "    <tr>\n",
       "      <th>1</th>\n",
       "      <td>abc</td>\n",
       "      <td>0.220815</td>\n",
       "    </tr>\n",
       "    <tr>\n",
       "      <th>2</th>\n",
       "      <td>ability</td>\n",
       "      <td>0.065879</td>\n",
       "    </tr>\n",
       "    <tr>\n",
       "      <th>3</th>\n",
       "      <td>able</td>\n",
       "      <td>-0.364832</td>\n",
       "    </tr>\n",
       "    <tr>\n",
       "      <th>4</th>\n",
       "      <td>about</td>\n",
       "      <td>0.144341</td>\n",
       "    </tr>\n",
       "    <tr>\n",
       "      <th>...</th>\n",
       "      <td>...</td>\n",
       "      <td>...</td>\n",
       "    </tr>\n",
       "    <tr>\n",
       "      <th>4267</th>\n",
       "      <td>zero</td>\n",
       "      <td>0.197319</td>\n",
       "    </tr>\n",
       "    <tr>\n",
       "      <th>4268</th>\n",
       "      <td>zharkova</td>\n",
       "      <td>0.481640</td>\n",
       "    </tr>\n",
       "    <tr>\n",
       "      <th>4269</th>\n",
       "      <td>zone</td>\n",
       "      <td>-0.325130</td>\n",
       "    </tr>\n",
       "    <tr>\n",
       "      <th>4270</th>\n",
       "      <td>zones</td>\n",
       "      <td>0.382683</td>\n",
       "    </tr>\n",
       "    <tr>\n",
       "      <th>4271</th>\n",
       "      <td>sentiment</td>\n",
       "      <td>-0.632404</td>\n",
       "    </tr>\n",
       "  </tbody>\n",
       "</table>\n",
       "<p>4272 rows × 2 columns</p>\n",
       "</div>"
      ],
      "text/plain": [
       "       features  coefficients\n",
       "0       abandon      0.465461\n",
       "1           abc      0.220815\n",
       "2       ability      0.065879\n",
       "3          able     -0.364832\n",
       "4         about      0.144341\n",
       "...         ...           ...\n",
       "4267       zero      0.197319\n",
       "4268   zharkova      0.481640\n",
       "4269       zone     -0.325130\n",
       "4270      zones      0.382683\n",
       "4271  sentiment     -0.632404\n",
       "\n",
       "[4272 rows x 2 columns]"
      ]
     },
     "execution_count": 34,
     "metadata": {},
     "output_type": "execute_result"
    }
   ],
   "source": [
    "simple_df = pd.DataFrame({'features': features, 'coefficients': coefs[0]})\n",
    "simple_df"
   ]
  },
  {
   "cell_type": "markdown",
   "metadata": {},
   "source": [
    "### Model 2 -  Random Forest "
   ]
  },
  {
   "cell_type": "code",
   "execution_count": 35,
   "metadata": {},
   "outputs": [],
   "source": [
    "#instantiate the model\n",
    "rf = RandomForestClassifier()"
   ]
  },
  {
   "cell_type": "code",
   "execution_count": 36,
   "metadata": {},
   "outputs": [
    {
     "data": {
      "text/plain": [
       "GridSearchCV(cv=5, error_score='raise-deprecating',\n",
       "             estimator=RandomForestClassifier(bootstrap=True, class_weight=None,\n",
       "                                              criterion='gini', max_depth=None,\n",
       "                                              max_features='auto',\n",
       "                                              max_leaf_nodes=None,\n",
       "                                              min_impurity_decrease=0.0,\n",
       "                                              min_impurity_split=None,\n",
       "                                              min_samples_leaf=1,\n",
       "                                              min_samples_split=2,\n",
       "                                              min_weight_fraction_leaf=0.0,\n",
       "                                              n_estimators='warn', n_jobs=None,\n",
       "                                              oob_score=False,\n",
       "                                              random_state=None, verbose=0,\n",
       "                                              warm_start=False),\n",
       "             iid='warn', n_jobs=None,\n",
       "             param_grid={'max_depth': [None, 10], 'n_estimators': [100, 150]},\n",
       "             pre_dispatch='2*n_jobs', refit=True, return_train_score=False,\n",
       "             scoring=None, verbose=0)"
      ]
     },
     "execution_count": 36,
     "metadata": {},
     "output_type": "execute_result"
    }
   ],
   "source": [
    "#setup paramaters & Gridsearch \n",
    "rf_params = {\n",
    "    'n_estimators': [100, 150],\n",
    "    'max_depth': [None, 10],\n",
    "}\n",
    "gs_rf = GridSearchCV(rf, param_grid=rf_params, cv=5)\n",
    "gs_rf.fit(X_train, y_train)"
   ]
  },
  {
   "cell_type": "code",
   "execution_count": 37,
   "metadata": {},
   "outputs": [
    {
     "name": "stdout",
     "output_type": "stream",
     "text": [
      "0.8879259259259259\n",
      "accuracy score - Existing data 0.9935555555555555\n",
      "accuracy score - New data 0.9004444444444445\n"
     ]
    }
   ],
   "source": [
    "# print out the best score\n",
    "print(gs_rf.best_score_)\n",
    "#print out the set of hyperparameters that achieved the best score.\n",
    "rf_model = gs_rf.best_estimator_\n",
    "print('accuracy score - Existing data', rf_model.score(X_train, y_train))\n",
    "print('accuracy score - New data', rf_model.score(X_test, y_test)) # Accuracy "
   ]
  },
  {
   "cell_type": "markdown",
   "metadata": {},
   "source": [
    "### Model 3 - Ada Boost Classifier"
   ]
  },
  {
   "cell_type": "markdown",
   "metadata": {},
   "source": [
    "This model took longer time than anticipated for large set of data, thus I wont be tuning it here. "
   ]
  },
  {
   "cell_type": "code",
   "execution_count": 38,
   "metadata": {},
   "outputs": [],
   "source": [
    "#ada = AdaBoostClassifier(base_estimator=DecisionTreeClassifier())"
   ]
  },
  {
   "cell_type": "code",
   "execution_count": 39,
   "metadata": {},
   "outputs": [],
   "source": [
    "#ada_params = {\n",
    "#    'n_estimators': [100,150],\n",
    "#    'base_estimator__max_depth': [1,2],\n",
    "#    'learning_rate': [.9, 1.]\n",
    "#}\n",
    "#gs_ada = GridSearchCV(ada, param_grid=ada_params, cv=3)\n",
    "#gs_ada.fit(X_train, y_train)"
   ]
  },
  {
   "cell_type": "code",
   "execution_count": 40,
   "metadata": {},
   "outputs": [],
   "source": [
    "## print out the best score\n",
    "#print(gs_ada.best_score_)\n",
    "##print out the set of hyperparameters that achieved the best score.\n",
    "#ada_model = gs_ada.best_estimator_\n",
    "#print('accuracy score - Existing data', ada_model.score(X_train, y_train))\n",
    "#print('accuracy score - New data', ada_model.score(X_test, y_test)) # Accuracy "
   ]
  },
  {
   "cell_type": "markdown",
   "metadata": {},
   "source": [
    "### Model 4 - Gradient Boosting Classifier "
   ]
  },
  {
   "cell_type": "code",
   "execution_count": 41,
   "metadata": {},
   "outputs": [],
   "source": [
    "#Instantiate the model\n",
    "gb = GradientBoostingClassifier()"
   ]
  },
  {
   "cell_type": "code",
   "execution_count": 43,
   "metadata": {},
   "outputs": [],
   "source": [
    "# Setting up parameters and Gridsearch \n",
    "gb_params = {\n",
    "   'max_depth': [2,3,4],\n",
    "    'n_estimators': [100, 150],\n",
    "    'learning_rate': [.08, .1, .12],\n",
    "    #'max_features': [100]\n",
    "}\n",
    "gs_gb = GridSearchCV(gb, param_grid=gb_params, cv=3)\n",
    "gs_gb.fit(X_train, y_train)"
   ]
  },
  {
   "cell_type": "code",
   "execution_count": null,
   "metadata": {},
   "outputs": [],
   "source": [
    "# Model Evaluation\n",
    "# print out the best score\n",
    "print(gs_gb.best_score_)\n",
    "#print out the set of hyperparameters that achieved the best score.\n",
    "gb_model = gs_gb.best_estimator_\n",
    "print('accuracy score - Existing data', gb_model.score(X_train, y_train))\n",
    "print('accuracy score - New data', gb_model.score(X_test, y_test)) # Accuracy "
   ]
  },
  {
   "cell_type": "markdown",
   "metadata": {},
   "source": [
    "### Model 5 - Voting Classifier "
   ]
  },
  {
   "cell_type": "code",
   "execution_count": null,
   "metadata": {},
   "outputs": [],
   "source": [
    "#Instantiate model \n",
    "\n",
    "\n"
   ]
  },
  {
   "cell_type": "code",
   "execution_count": null,
   "metadata": {},
   "outputs": [],
   "source": [
    "# for the sake of time & speed no parameters were run for the votingclassifier\n",
    "# but will keep/run the code for future references. \n",
    "\n",
    "##using GridSearch now to loop through multiple parameter and check which one works the best for our model:\n",
    "## Fit GridSearch to train set.\n",
    "#gs = GridSearchCV(vote, param_grid=vote_params, cv=3)\n",
    "## Fit GridSearch to train set.\n",
    "#gs.fit(X_train, y_train)\n",
    "## print out the best score\n",
    "#print(gs.best_score_)\n",
    "##print out the set of hyperparameters that achieved the best score.\n",
    "#print(gs.best_params_)\n",
    "#vote_model = gs.best_estimator_\n",
    "#print(vote_model.score(X_train, y_train))\n",
    "#print(vote_model.score(X_test, y_test))"
   ]
  },
  {
   "cell_type": "code",
   "execution_count": null,
   "metadata": {},
   "outputs": [],
   "source": [
    "#vote = VotingClassifier([\n",
    "#    ('gb', GradientBoostingClassifier()), \n",
    "#    ('lr', LogisticRegression(solver = 'liblinear')),\n",
    "#    ('rf', RandomForestClassifier())])\n",
    "#\n",
    "## setting up params n_estimators is set based on squareroot number of 20K rows ~150\n",
    "##vote_params = {\n",
    "##    'gb__n_estimators': [100,150],\n",
    "##    'lr__n_estimators': [100,150],\n",
    "##    'rf__max_depth': [None, 10],\n",
    "#    \n",
    "##}\n",
    "##using GridSearch now to loop through multiple parameter and check which one works the best for our model:\n",
    "## Fit GridSearch to train set.\n",
    "#gs = GridSearchCV(vote, param_grid=vote_params, cv=3)\n",
    "## Fit GridSearch to train set.\n",
    "#gs.fit(X_train, y_train)\n",
    "## print out the best score\n",
    "#print(gs.best_score_)\n",
    "##print out the set of hyperparameters that achieved the best score.\n",
    "#print(gs.best_params_)\n",
    "#vote_model = gs.best_estimator_\n",
    "#print(vote_model.score(X_train, y_train))\n",
    "#print(vote_model.score(X_test, y_test))"
   ]
  }
 ],
 "metadata": {
  "kernelspec": {
   "display_name": "Python 3",
   "language": "python",
   "name": "python3"
  },
  "language_info": {
   "codemirror_mode": {
    "name": "ipython",
    "version": 3
   },
   "file_extension": ".py",
   "mimetype": "text/x-python",
   "name": "python",
   "nbconvert_exporter": "python",
   "pygments_lexer": "ipython3",
   "version": "3.7.4"
  }
 },
 "nbformat": 4,
 "nbformat_minor": 4
}
